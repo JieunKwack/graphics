{
 "cells": [
  {
   "cell_type": "code",
   "execution_count": 8,
   "metadata": {
    "collapsed": true
   },
   "outputs": [],
   "source": [
    "%matplotlib inline\n",
    "import numpy as np"
   ]
  },
  {
   "cell_type": "code",
   "execution_count": 9,
   "metadata": {
    "collapsed": true
   },
   "outputs": [],
   "source": [
    "import math as math"
   ]
  },
  {
   "cell_type": "code",
   "execution_count": 10,
   "metadata": {
    "collapsed": true
   },
   "outputs": [],
   "source": [
    "import matplotlib.pyplot as plt"
   ]
  },
  {
   "cell_type": "code",
   "execution_count": 11,
   "metadata": {
    "collapsed": true
   },
   "outputs": [],
   "source": [
    "NR_SEG = 100"
   ]
  },
  {
   "cell_type": "code",
   "execution_count": 12,
   "metadata": {
    "collapsed": true
   },
   "outputs": [],
   "source": [
    "NR_CP = 4"
   ]
  },
  {
   "cell_type": "code",
   "execution_count": 13,
   "metadata": {
    "collapsed": false
   },
   "outputs": [
    {
     "data": {
      "text/plain": [
       "array([[ 0.23941346,  0.48003501],\n",
       "       [ 0.67730797,  0.58279838],\n",
       "       [ 0.89175672,  0.61193944],\n",
       "       [ 0.67857903,  0.50420004]])"
      ]
     },
     "execution_count": 13,
     "metadata": {},
     "output_type": "execute_result"
    }
   ],
   "source": [
    "select = -1;\n",
    "P = np.random.rand(NR_CP, 2);\n",
    "P"
   ]
  },
  {
   "cell_type": "code",
   "execution_count": 17,
   "metadata": {
    "collapsed": false
   },
   "outputs": [
    {
     "data": {
      "text/plain": [
       "<matplotlib.figure.Figure at 0x117ea9e48>"
      ]
     },
     "metadata": {},
     "output_type": "display_data"
    }
   ],
   "source": [
    "fig = plt.figure();"
   ]
  },
  {
   "cell_type": "code",
   "execution_count": 21,
   "metadata": {
    "collapsed": false
   },
   "outputs": [
    {
     "data": {
      "image/png": "[encoded data removed]",
      "text/plain": [
       "<matplotlib.figure.Figure at 0x11870c128>"
      ]
     },
     "metadata": {},
     "output_type": "display_data"
    }
   ],
   "source": [
    "line, = plt.plot(P[:,0], P[:,1], 's-', picker=5)"
   ]
  },
  {
   "cell_type": "code",
   "execution_count": 22,
   "metadata": {
    "collapsed": false
   },
   "outputs": [
    {
     "data": {
      "image/png": "[encoded data removed]",
      "text/plain": [
       "<matplotlib.figure.Figure at 0x11855f4a8>"
      ]
     },
     "metadata": {},
     "output_type": "display_data"
    }
   ],
   "source": [
    "line, = plt.plot(P[:,0], P[:,1], 's-')"
   ]
  },
  {
   "cell_type": "code",
   "execution_count": 38,
   "metadata": {
    "collapsed": true
   },
   "outputs": [],
   "source": [
    "def onpick(event):\n",
    "    global select\n",
    "    N = len(event.ind)\n",
    "    N\n",
    "    if not N: return True\n",
    "    select = event.ind[0]\n",
    "    select\n",
    "    return True"
   ]
  },
  {
   "cell_type": "code",
   "execution_count": 39,
   "metadata": {
    "collapsed": true
   },
   "outputs": [],
   "source": [
    "def ondrag(event):\n",
    "    global select, line, curve, P, fig\n",
    "    if select==-1: return True\n",
    "    if (event.xdata is None or event.ydata is None): return True\n",
    "    #update\n",
    "    P[select, :] = [event.xdata, event.ydata]\n",
    "    line.set_data(P[:,0],P[:,1])\n",
    "    fig.canvas.draw()\n",
    "    \n",
    "    return True"
   ]
  },
  {
   "cell_type": "code",
   "execution_count": 40,
   "metadata": {
    "collapsed": true
   },
   "outputs": [],
   "source": [
    "def onrelease(event):\n",
    "    global select\n",
    "    select = -1\n",
    "    return True"
   ]
  },
  {
   "cell_type": "code",
   "execution_count": 42,
   "metadata": {
    "collapsed": false
   },
   "outputs": [
    {
     "data": {
      "text/plain": [
       "7"
      ]
     },
     "execution_count": 42,
     "metadata": {},
     "output_type": "execute_result"
    }
   ],
   "source": [
    "fig.canvas.mpl_connect('pick_event', onpick)"
   ]
  },
  {
   "cell_type": "code",
   "execution_count": 43,
   "metadata": {
    "collapsed": false
   },
   "outputs": [
    {
     "data": {
      "text/plain": [
       "8"
      ]
     },
     "execution_count": 43,
     "metadata": {},
     "output_type": "execute_result"
    }
   ],
   "source": [
    "fig.canvas.mpl_connect('button_release_event', onrelease)"
   ]
  },
  {
   "cell_type": "code",
   "execution_count": 44,
   "metadata": {
    "collapsed": false
   },
   "outputs": [
    {
     "data": {
      "text/plain": [
       "9"
      ]
     },
     "execution_count": 44,
     "metadata": {},
     "output_type": "execute_result"
    }
   ],
   "source": [
    "fig.canvas.mpl_connect('motion_notify_event', ondrag)"
   ]
  },
  {
   "cell_type": "code",
   "execution_count": 46,
   "metadata": {
    "collapsed": true
   },
   "outputs": [],
   "source": [
    "plt.show()"
   ]
  },
  {
   "cell_type": "code",
   "execution_count": 81,
   "metadata": {
    "collapsed": false
   },
   "outputs": [
    {
     "data": {
      "image/png": "[encoded data removed]",
      "text/plain": [
       "<matplotlib.figure.Figure at 0x118856be0>"
      ]
     },
     "metadata": {},
     "output_type": "display_data"
    }
   ],
   "source": [
    "t = np.arange(0, 1.01, 0.01).reshape(101,1)\n",
    "c_b0 = ((1-t)**3)\n",
    "c_b1 = (3*t*((1-t)**2))\n",
    "c_b2 = (3*(t**2)*(1-t))\n",
    "c_b3 = (t**3)\n",
    "Bezier = c_b0*P[0,:]+c_b1*P[1,:]+c_b2*P[2,:]+c_b3*P[3,:]\n",
    "line,  = plt.plot(P[:,0], P[:,1], 's-', picker=5)  # 5 points tolerance\n",
    "bezier, = plt.plot(Bezier[:,0],Bezier[:,1],'-')"
   ]
  },
  {
   "cell_type": "code",
   "execution_count": 54,
   "metadata": {
    "collapsed": false
   },
   "outputs": [
    {
     "data": {
      "text/plain": [
       "array([  1.00000000e+00,   9.70299000e-01,   9.41192000e-01,\n",
       "         9.12673000e-01,   8.84736000e-01,   8.57375000e-01,\n",
       "         8.30584000e-01,   8.04357000e-01,   7.78688000e-01,\n",
       "         7.53571000e-01,   7.29000000e-01,   7.04969000e-01,\n",
       "         6.81472000e-01,   6.58503000e-01,   6.36056000e-01,\n",
       "         6.14125000e-01,   5.92704000e-01,   5.71787000e-01,\n",
       "         5.51368000e-01,   5.31441000e-01,   5.12000000e-01,\n",
       "         4.93039000e-01,   4.74552000e-01,   4.56533000e-01,\n",
       "         4.38976000e-01,   4.21875000e-01,   4.05224000e-01,\n",
       "         3.89017000e-01,   3.73248000e-01,   3.57911000e-01,\n",
       "         3.43000000e-01,   3.28509000e-01,   3.14432000e-01,\n",
       "         3.00763000e-01,   2.87496000e-01,   2.74625000e-01,\n",
       "         2.62144000e-01,   2.50047000e-01,   2.38328000e-01,\n",
       "         2.26981000e-01,   2.16000000e-01,   2.05379000e-01,\n",
       "         1.95112000e-01,   1.85193000e-01,   1.75616000e-01,\n",
       "         1.66375000e-01,   1.57464000e-01,   1.48877000e-01,\n",
       "         1.40608000e-01,   1.32651000e-01,   1.25000000e-01,\n",
       "         1.17649000e-01,   1.10592000e-01,   1.03823000e-01,\n",
       "         9.73360000e-02,   9.11250000e-02,   8.51840000e-02,\n",
       "         7.95070000e-02,   7.40880000e-02,   6.89210000e-02,\n",
       "         6.40000000e-02,   5.93190000e-02,   5.48720000e-02,\n",
       "         5.06530000e-02,   4.66560000e-02,   4.28750000e-02,\n",
       "         3.93040000e-02,   3.59370000e-02,   3.27680000e-02,\n",
       "         2.97910000e-02,   2.70000000e-02,   2.43890000e-02,\n",
       "         2.19520000e-02,   1.96830000e-02,   1.75760000e-02,\n",
       "         1.56250000e-02,   1.38240000e-02,   1.21670000e-02,\n",
       "         1.06480000e-02,   9.26100000e-03,   8.00000000e-03,\n",
       "         6.85900000e-03,   5.83200000e-03,   4.91300000e-03,\n",
       "         4.09600000e-03,   3.37500000e-03,   2.74400000e-03,\n",
       "         2.19700000e-03,   1.72800000e-03,   1.33100000e-03,\n",
       "         1.00000000e-03,   7.29000000e-04,   5.12000000e-04,\n",
       "         3.43000000e-04,   2.16000000e-04,   1.25000000e-04,\n",
       "         6.40000000e-05,   2.70000000e-05,   8.00000000e-06,\n",
       "         1.00000000e-06,   0.00000000e+00])"
      ]
     },
     "execution_count": 54,
     "metadata": {},
     "output_type": "execute_result"
    }
   ],
   "source": [
    "(1-t)**3"
   ]
  },
  {
   "cell_type": "code",
   "execution_count": 55,
   "metadata": {
    "collapsed": false
   },
   "outputs": [
    {
     "data": {
      "text/plain": [
       "array([  1.00000000e+00,   9.70299000e-01,   9.41192000e-01,\n",
       "         9.12673000e-01,   8.84736000e-01,   8.57375000e-01,\n",
       "         8.30584000e-01,   8.04357000e-01,   7.78688000e-01,\n",
       "         7.53571000e-01,   7.29000000e-01,   7.04969000e-01,\n",
       "         6.81472000e-01,   6.58503000e-01,   6.36056000e-01,\n",
       "         6.14125000e-01,   5.92704000e-01,   5.71787000e-01,\n",
       "         5.51368000e-01,   5.31441000e-01,   5.12000000e-01,\n",
       "         4.93039000e-01,   4.74552000e-01,   4.56533000e-01,\n",
       "         4.38976000e-01,   4.21875000e-01,   4.05224000e-01,\n",
       "         3.89017000e-01,   3.73248000e-01,   3.57911000e-01,\n",
       "         3.43000000e-01,   3.28509000e-01,   3.14432000e-01,\n",
       "         3.00763000e-01,   2.87496000e-01,   2.74625000e-01,\n",
       "         2.62144000e-01,   2.50047000e-01,   2.38328000e-01,\n",
       "         2.26981000e-01,   2.16000000e-01,   2.05379000e-01,\n",
       "         1.95112000e-01,   1.85193000e-01,   1.75616000e-01,\n",
       "         1.66375000e-01,   1.57464000e-01,   1.48877000e-01,\n",
       "         1.40608000e-01,   1.32651000e-01,   1.25000000e-01,\n",
       "         1.17649000e-01,   1.10592000e-01,   1.03823000e-01,\n",
       "         9.73360000e-02,   9.11250000e-02,   8.51840000e-02,\n",
       "         7.95070000e-02,   7.40880000e-02,   6.89210000e-02,\n",
       "         6.40000000e-02,   5.93190000e-02,   5.48720000e-02,\n",
       "         5.06530000e-02,   4.66560000e-02,   4.28750000e-02,\n",
       "         3.93040000e-02,   3.59370000e-02,   3.27680000e-02,\n",
       "         2.97910000e-02,   2.70000000e-02,   2.43890000e-02,\n",
       "         2.19520000e-02,   1.96830000e-02,   1.75760000e-02,\n",
       "         1.56250000e-02,   1.38240000e-02,   1.21670000e-02,\n",
       "         1.06480000e-02,   9.26100000e-03,   8.00000000e-03,\n",
       "         6.85900000e-03,   5.83200000e-03,   4.91300000e-03,\n",
       "         4.09600000e-03,   3.37500000e-03,   2.74400000e-03,\n",
       "         2.19700000e-03,   1.72800000e-03,   1.33100000e-03,\n",
       "         1.00000000e-03,   7.29000000e-04,   5.12000000e-04,\n",
       "         3.43000000e-04,   2.16000000e-04,   1.25000000e-04,\n",
       "         6.40000000e-05,   2.70000000e-05,   8.00000000e-06,\n",
       "         1.00000000e-06,   0.00000000e+00])"
      ]
     },
     "execution_count": 55,
     "metadata": {},
     "output_type": "execute_result"
    }
   ],
   "source": [
    "c_b0"
   ]
  },
  {
   "cell_type": "code",
   "execution_count": 69,
   "metadata": {
    "collapsed": false
   },
   "outputs": [
    {
     "data": {
      "text/plain": [
       "array([[1, 2, 3, 4]])"
      ]
     },
     "execution_count": 69,
     "metadata": {},
     "output_type": "execute_result"
    }
   ],
   "source": [
    "a = np.array([[1,2,3,4]])\n",
    "a"
   ]
  },
  {
   "cell_type": "code",
   "execution_count": 70,
   "metadata": {
    "collapsed": false
   },
   "outputs": [
    {
     "data": {
      "text/plain": [
       "array([[1],\n",
       "       [2],\n",
       "       [3],\n",
       "       [4]])"
      ]
     },
     "execution_count": 70,
     "metadata": {},
     "output_type": "execute_result"
    }
   ],
   "source": [
    "a.transpose()"
   ]
  },
  {
   "cell_type": "code",
   "execution_count": 75,
   "metadata": {
    "collapsed": false
   },
   "outputs": [
    {
     "data": {
      "text/plain": [
       "array([[ 0.  ],\n",
       "       [ 0.01],\n",
       "       [ 0.02],\n",
       "       [ 0.03],\n",
       "       [ 0.04],\n",
       "       [ 0.05],\n",
       "       [ 0.06],\n",
       "       [ 0.07],\n",
       "       [ 0.08],\n",
       "       [ 0.09],\n",
       "       [ 0.1 ],\n",
       "       [ 0.11],\n",
       "       [ 0.12],\n",
       "       [ 0.13],\n",
       "       [ 0.14],\n",
       "       [ 0.15],\n",
       "       [ 0.16],\n",
       "       [ 0.17],\n",
       "       [ 0.18],\n",
       "       [ 0.19],\n",
       "       [ 0.2 ],\n",
       "       [ 0.21],\n",
       "       [ 0.22],\n",
       "       [ 0.23],\n",
       "       [ 0.24],\n",
       "       [ 0.25],\n",
       "       [ 0.26],\n",
       "       [ 0.27],\n",
       "       [ 0.28],\n",
       "       [ 0.29],\n",
       "       [ 0.3 ],\n",
       "       [ 0.31],\n",
       "       [ 0.32],\n",
       "       [ 0.33],\n",
       "       [ 0.34],\n",
       "       [ 0.35],\n",
       "       [ 0.36],\n",
       "       [ 0.37],\n",
       "       [ 0.38],\n",
       "       [ 0.39],\n",
       "       [ 0.4 ],\n",
       "       [ 0.41],\n",
       "       [ 0.42],\n",
       "       [ 0.43],\n",
       "       [ 0.44],\n",
       "       [ 0.45],\n",
       "       [ 0.46],\n",
       "       [ 0.47],\n",
       "       [ 0.48],\n",
       "       [ 0.49],\n",
       "       [ 0.5 ],\n",
       "       [ 0.51],\n",
       "       [ 0.52],\n",
       "       [ 0.53],\n",
       "       [ 0.54],\n",
       "       [ 0.55],\n",
       "       [ 0.56],\n",
       "       [ 0.57],\n",
       "       [ 0.58],\n",
       "       [ 0.59],\n",
       "       [ 0.6 ],\n",
       "       [ 0.61],\n",
       "       [ 0.62],\n",
       "       [ 0.63],\n",
       "       [ 0.64],\n",
       "       [ 0.65],\n",
       "       [ 0.66],\n",
       "       [ 0.67],\n",
       "       [ 0.68],\n",
       "       [ 0.69],\n",
       "       [ 0.7 ],\n",
       "       [ 0.71],\n",
       "       [ 0.72],\n",
       "       [ 0.73],\n",
       "       [ 0.74],\n",
       "       [ 0.75],\n",
       "       [ 0.76],\n",
       "       [ 0.77],\n",
       "       [ 0.78],\n",
       "       [ 0.79],\n",
       "       [ 0.8 ],\n",
       "       [ 0.81],\n",
       "       [ 0.82],\n",
       "       [ 0.83],\n",
       "       [ 0.84],\n",
       "       [ 0.85],\n",
       "       [ 0.86],\n",
       "       [ 0.87],\n",
       "       [ 0.88],\n",
       "       [ 0.89],\n",
       "       [ 0.9 ],\n",
       "       [ 0.91],\n",
       "       [ 0.92],\n",
       "       [ 0.93],\n",
       "       [ 0.94],\n",
       "       [ 0.95],\n",
       "       [ 0.96],\n",
       "       [ 0.97],\n",
       "       [ 0.98],\n",
       "       [ 0.99],\n",
       "       [ 1.  ]])"
      ]
     },
     "execution_count": 75,
     "metadata": {},
     "output_type": "execute_result"
    }
   ],
   "source": [
    "t = np.arange(0, 1.01, 0.01).reshape(101,1)\n",
    "t"
   ]
  },
  {
   "cell_type": "code",
   "execution_count": 74,
   "metadata": {
    "collapsed": false
   },
   "outputs": [
    {
     "data": {
      "text/plain": [
       "array([ 0.  ,  0.01,  0.02,  0.03,  0.04,  0.05,  0.06,  0.07,  0.08,\n",
       "        0.09,  0.1 ,  0.11,  0.12,  0.13,  0.14,  0.15,  0.16,  0.17,\n",
       "        0.18,  0.19,  0.2 ,  0.21,  0.22,  0.23,  0.24,  0.25,  0.26,\n",
       "        0.27,  0.28,  0.29,  0.3 ,  0.31,  0.32,  0.33,  0.34,  0.35,\n",
       "        0.36,  0.37,  0.38,  0.39,  0.4 ,  0.41,  0.42,  0.43,  0.44,\n",
       "        0.45,  0.46,  0.47,  0.48,  0.49,  0.5 ,  0.51,  0.52,  0.53,\n",
       "        0.54,  0.55,  0.56,  0.57,  0.58,  0.59,  0.6 ,  0.61,  0.62,\n",
       "        0.63,  0.64,  0.65,  0.66,  0.67,  0.68,  0.69,  0.7 ,  0.71,\n",
       "        0.72,  0.73,  0.74,  0.75,  0.76,  0.77,  0.78,  0.79,  0.8 ,\n",
       "        0.81,  0.82,  0.83,  0.84,  0.85,  0.86,  0.87,  0.88,  0.89,\n",
       "        0.9 ,  0.91,  0.92,  0.93,  0.94,  0.95,  0.96,  0.97,  0.98,\n",
       "        0.99,  1.  ])"
      ]
     },
     "execution_count": 74,
     "metadata": {},
     "output_type": "execute_result"
    }
   ],
   "source": [
    "t.transpose()"
   ]
  },
  {
   "cell_type": "code",
   "execution_count": null,
   "metadata": {
    "collapsed": true
   },
   "outputs": [],
   "source": []
  }
 ],
 "metadata": {
  "kernelspec": {
   "display_name": "Python 3",
   "language": "python",
   "name": "python3"
  },
  "language_info": {
   "codemirror_mode": {
    "name": "ipython",
    "version": 3
   },
   "file_extension": ".py",
   "mimetype": "text/x-python",
   "name": "python",
   "nbconvert_exporter": "python",
   "pygments_lexer": "ipython3",
   "version": "3.5.0"
  }
 },
 "nbformat": 4,
 "nbformat_minor": 0
}
